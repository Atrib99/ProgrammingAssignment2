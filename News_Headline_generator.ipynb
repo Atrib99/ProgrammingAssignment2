{
  "nbformat": 4,
  "nbformat_minor": 0,
  "metadata": {
    "colab": {
      "provenance": [],
      "authorship_tag": "ABX9TyPhuEaNZ5M9fsdz6AXH0rd/",
      "include_colab_link": true
    },
    "kernelspec": {
      "name": "python3",
      "display_name": "Python 3"
    },
    "language_info": {
      "name": "python"
    }
  },
  "cells": [
    {
      "cell_type": "markdown",
      "metadata": {
        "id": "view-in-github",
        "colab_type": "text"
      },
      "source": [
        "<a href=\"https://colab.research.google.com/github/Atrib99/Python_Projects/blob/master/News_Headline_generator.ipynb\" target=\"_parent\"><img src=\"https://colab.research.google.com/assets/colab-badge.svg\" alt=\"Open In Colab\"/></a>"
      ]
    },
    {
      "cell_type": "code",
      "execution_count": 1,
      "metadata": {
        "id": "vw3Tp4ucHg8D"
      },
      "outputs": [],
      "source": [
        "import requests"
      ]
    },
    {
      "cell_type": "code",
      "source": [
        "def fetch_top_news(api_key, country='in', category=None):\n",
        "    \"\"\"\n",
        "    Fetches the top news articles using the News API.\n",
        "\n",
        "    Args:\n",
        "    - api_key (str): Your News API key.\n",
        "    - country (str): The country for which you want to fetch the news (default is 'us').\n",
        "    - category (str): The category of news you want to fetch (optional).\n",
        "\n",
        "    Returns:\n",
        "    - List of dictionaries, each containing information about a news article.\n",
        "    \"\"\"\n",
        "    base_url = 'https://newsapi.org/v2/top-headlines'\n",
        "    params = {\n",
        "        'apiKey': api_key,\n",
        "        'country': country\n",
        "    }\n",
        "    if category:\n",
        "        params['category'] = category\n",
        "\n",
        "    response = requests.get(base_url, params=params)\n",
        "    if response.status_code == 200:\n",
        "        data = response.json()\n",
        "        articles = data['articles']\n",
        "        return articles\n",
        "    else:\n",
        "        print(\"Failed to fetch news:\", response.status_code)\n",
        "        return []\n"
      ],
      "metadata": {
        "id": "NzUAEXwuH2Hk"
      },
      "execution_count": 10,
      "outputs": []
    },
    {
      "cell_type": "code",
      "source": [
        "# Replace 'YOUR_API_KEY' with your actual News API key\n",
        "api_key = '27c2bb896f5a482d82377488378c2d7a'"
      ],
      "metadata": {
        "id": "_Im4aYoAJxBx"
      },
      "execution_count": 13,
      "outputs": []
    },
    {
      "cell_type": "code",
      "source": [
        "# Fetch top news articles\n",
        "top_news = fetch_top_news(api_key)\n"
      ],
      "metadata": {
        "id": "sck8aXPcJ9Y0"
      },
      "execution_count": 12,
      "outputs": []
    },
    {
      "cell_type": "code",
      "source": [
        "# Print the titles of the top news articles\n",
        "for idx, article in enumerate(top_news, start=1):\n",
        "    print(f\"{idx}. {article['title']}\")"
      ],
      "metadata": {
        "colab": {
          "base_uri": "https://localhost:8080/"
        },
        "id": "T7Y2Yx9SKDIx",
        "outputId": "c44e7c47-99c0-4aa4-fdc8-6d8c54934331"
      },
      "execution_count": 14,
      "outputs": [
        {
          "output_type": "stream",
          "name": "stdout",
          "text": [
            "1. BCCI Secretary Jay Shah Confirms Rohit Sharma as India Captain for 2024 T20 World Cup - News18\n",
            "2. Kamal Kant Batra, mother of Kargil war hero captain Vikram Batra, dies at 77 - Hindustan Times\n",
            "3. Day 3 protest: Farmers to block trains today, hold round 3 talks with Centre - Hindustan Times\n",
            "4. Cisco to cut more than 4,000 jobs, lowers annual revenue forecast - Moneycontrol\n",
            "5. Teri Baaton Mein Aisa Uljha Jiya box office collection day 6: Shahid Kapoor and Kriti Sanon's film witnes - TOI Etimes\n",
            "6. Career Horoscope Today for Feb 15, 2024: Astro tips to overcome work conflicts - Hindustan Times\n",
            "7. Shah Rukh Khan Reveals Why He Rejected Slumdog Millionaire: 'Told Danny Boyle I Wouldn't Like...' - News18\n",
            "8. 'Priorities Matter': BJP Attacks TMC MP Nusrat Jahan over Valentine's Day Revelry amid Sandeshkhali Row - News18\n",
            "9. 5 years on, promises made to Pulwama martyr’s family remain unfulfilled - Times of India\n",
            "10. Meta's Zuckerberg Takes Aim at Apple's Vision Pro - Bloomberg Technology\n",
            "11. We are not going to tolerate any other tantrums: Jay Shah says centrally contracted players will have to play domestic red-ball cricket - The Indian Express\n",
            "12. Singer Aditya Narayan On Throwing Fan's Phone: \"I Am Answerable To The Almighty\" - NDTV Movies\n",
            "13. Mother, two children among Lebanese killed by Israel in air raids - Al Jazeera English\n",
            "14. Death risk from chikungunya continues for up to three months: Lancet study - South First\n",
            "15. Greenland is getting greener and why it should worry us - msnNOW\n",
            "16. \"Joy In Ayodhya Amplified In Abu Dhabi\": PM Modi Inaugurates Temple In UAE - NDTV\n",
            "17. Congress fields Digvijaya Singh loyalist for Rajya Sabha polls in M.P.; move ends speculation of Kamal Nath being nominated to Upper House - The Hindu\n",
            "18. BREAKING| Supreme Court To Deliver Judgment On Validity Of Electoral Bonds Tomorrow - Live Law - Indian Legal News\n",
            "19. Shehbaz Sharif set for 2nd term as Pak PM. 10 things to know about PML-N leader - Hindustan Times\n",
            "20. \"Keep Away From Diving\": On Injury Concerns, Ravindra Jadeja's 'Can't Hide Anywhere' Comment - NDTV Sports\n"
          ]
        }
      ]
    }
  ]
}