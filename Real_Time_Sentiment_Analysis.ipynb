{
  "nbformat": 4,
  "nbformat_minor": 0,
  "metadata": {
    "colab": {
      "provenance": [],
      "authorship_tag": "ABX9TyPYxDCfI7e9+0/vuvf20Mia",
      "include_colab_link": true
    },
    "kernelspec": {
      "name": "python3",
      "display_name": "Python 3"
    },
    "language_info": {
      "name": "python"
    }
  },
  "cells": [
    {
      "cell_type": "markdown",
      "metadata": {
        "id": "view-in-github",
        "colab_type": "text"
      },
      "source": [
        "<a href=\"https://colab.research.google.com/github/Atrib99/ProgrammingAssignment2/blob/master/Real_Time_Sentiment_Analysis.ipynb\" target=\"_parent\"><img src=\"https://colab.research.google.com/assets/colab-badge.svg\" alt=\"Open In Colab\"/></a>"
      ]
    },
    {
      "cell_type": "code",
      "execution_count": 1,
      "metadata": {
        "colab": {
          "base_uri": "https://localhost:8080/"
        },
        "id": "_Vf3qjP_AHnP",
        "outputId": "bccd632e-9dfc-4c9b-8b3a-8c7edd39ff6a"
      },
      "outputs": [
        {
          "output_type": "stream",
          "name": "stderr",
          "text": [
            "[nltk_data] Downloading package vader_lexicon to /root/nltk_data...\n"
          ]
        },
        {
          "output_type": "execute_result",
          "data": {
            "text/plain": [
              "True"
            ]
          },
          "metadata": {},
          "execution_count": 1
        }
      ],
      "source": [
        "from nltk.sentiment.vader import SentimentIntensityAnalyzer\n",
        "import nltk\n",
        "nltk.download('vader_lexicon')"
      ]
    },
    {
      "cell_type": "code",
      "source": [
        "user_input = input(\"Please Rate Our Services >>: \")\n",
        "sid = SentimentIntensityAnalyzer()\n",
        "score = sid.polarity_scores(user_input)\n",
        "print(score)"
      ],
      "metadata": {
        "colab": {
          "base_uri": "https://localhost:8080/"
        },
        "id": "OMMmHqiZASDO",
        "outputId": "89fb0cf1-ed6c-4268-85bc-eba931121f41"
      },
      "execution_count": 2,
      "outputs": [
        {
          "output_type": "stream",
          "name": "stdout",
          "text": [
            "Please Rate Our Services >>: great\n",
            "{'neg': 0.0, 'neu': 0.0, 'pos': 1.0, 'compound': 0.6249}\n"
          ]
        }
      ]
    },
    {
      "cell_type": "code",
      "source": [
        "user_input = input(\"Please Rate Our Services >>: \")\n",
        "sid = SentimentIntensityAnalyzer()\n",
        "score = sid.polarity_scores(user_input)\n",
        "if score[\"neg\"] != 0:\n",
        "      print(\"Negative\")\n",
        "else:\n",
        "      print(\"Positive\")"
      ],
      "metadata": {
        "colab": {
          "base_uri": "https://localhost:8080/"
        },
        "id": "LIbHzD9xAjar",
        "outputId": "e60d5a25-3d6b-4a39-cf2f-14991b924348"
      },
      "execution_count": 3,
      "outputs": [
        {
          "output_type": "stream",
          "name": "stdout",
          "text": [
            "Please Rate Our Services >>: great\n",
            "Positive\n"
          ]
        }
      ]
    }
  ]
}