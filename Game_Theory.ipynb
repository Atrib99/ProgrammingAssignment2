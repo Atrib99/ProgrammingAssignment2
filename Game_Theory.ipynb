{
  "nbformat": 4,
  "nbformat_minor": 0,
  "metadata": {
    "colab": {
      "provenance": [],
      "authorship_tag": "ABX9TyMVKos9kAfBu5y+TzXk6INf",
      "include_colab_link": true
    },
    "kernelspec": {
      "name": "python3",
      "display_name": "Python 3"
    },
    "language_info": {
      "name": "python"
    }
  },
  "cells": [
    {
      "cell_type": "markdown",
      "metadata": {
        "id": "view-in-github",
        "colab_type": "text"
      },
      "source": [
        "<a href=\"https://colab.research.google.com/github/Atrib99/Python_Projects/blob/master/Game_Theory.ipynb\" target=\"_parent\"><img src=\"https://colab.research.google.com/assets/colab-badge.svg\" alt=\"Open In Colab\"/></a>"
      ]
    },
    {
      "cell_type": "code",
      "source": [
        "import numpy as np\n",
        "import matplotlib.pyplot as plt\n",
        "\n",
        "def saddle_point(matrix):\n",
        "    \"\"\"\n",
        "    Find the saddle point of a given matrix, if it exists.\n",
        "    \"\"\"\n",
        "    min_of_rows = np.max(matrix, axis=1)\n",
        "    max_of_columns = np.min(matrix, axis=0)\n",
        "\n",
        "    max_of_rows_min = np.argmax(min_of_rows)\n",
        "    min_of_columns_max = np.argmin(max_of_columns)\n",
        "\n",
        "    if max_of_rows_min == min_of_columns_max:\n",
        "        return (max_of_rows_min, min_of_columns_max)\n",
        "    else:\n",
        "        return None\n",
        "\n",
        "def mixed_strategy(matrix):\n",
        "    \"\"\"\n",
        "    Calculate the mixed strategy of a given matrix.\n",
        "    \"\"\"\n",
        "    num_rows, num_columns = matrix.shape\n",
        "\n",
        "    row_player_strategy = np.zeros(num_rows)\n",
        "    column_player_strategy = np.zeros(num_columns)\n",
        "\n",
        "    saddle_point_index = saddle_point(matrix)\n",
        "\n",
        "    if saddle_point_index:\n",
        "        row, col = saddle_point_index\n",
        "        row_player_strategy[row] = 1.0\n",
        "        column_player_strategy[col] = 1.0\n",
        "    else:\n",
        "        row_player_payoffs = np.zeros(num_rows)\n",
        "        column_player_payoffs = np.zeros(num_columns)\n",
        "\n",
        "        for i in range(num_rows):\n",
        "            row_player_payoffs[i] = np.min(matrix[i, :])\n",
        "\n",
        "        min_payoff_row = np.min(row_player_payoffs)\n",
        "        min_payoff_row_index = np.where(row_player_payoffs == min_payoff_row)[0]\n",
        "\n",
        "        for j in range(num_columns):\n",
        "            column_player_payoffs[j] = np.max(matrix[:, j])\n",
        "\n",
        "        max_payoff_col = np.max(column_player_payoffs)\n",
        "        max_payoff_col_index = np.where(column_player_payoffs == max_payoff_col)[0]\n",
        "\n",
        "        row_player_strategy[min_payoff_row_index] = 1.0 / len(min_payoff_row_index)\n",
        "        column_player_strategy[max_payoff_col_index] = 1.0 / len(max_payoff_col_index)\n",
        "\n",
        "    return row_player_strategy, column_player_strategy\n",
        "\n",
        "def is_dominant(matrix, player, strategy_index):\n",
        "    \"\"\"\n",
        "    Check if a given strategy is dominant for a player.\n",
        "    \"\"\"\n",
        "    num_rows, num_columns = matrix.shape\n",
        "\n",
        "    if player == \"row\":\n",
        "        row_strategy = matrix[strategy_index, :]\n",
        "        for i in range(num_rows):\n",
        "            if not np.all(row_strategy >= matrix[i, :]):\n",
        "                return False\n",
        "    elif player == \"column\":\n",
        "        column_strategy = matrix[:, strategy_index]\n",
        "        for j in range(num_columns):\n",
        "            if not np.all(column_strategy <= matrix[:, j]):\n",
        "                return False\n",
        "    return True\n",
        "\n",
        "def plot_game(matrix):\n",
        "    \"\"\"\n",
        "    Plot the game matrix.\n",
        "    \"\"\"\n",
        "    fig, ax = plt.subplots()\n",
        "    cax = ax.matshow(matrix, cmap='viridis')\n",
        "\n",
        "    for i in range(matrix.shape[0]):\n",
        "        for j in range(matrix.shape[1]):\n",
        "            ax.text(j, i, matrix[i, j], va='center', ha='center')\n",
        "\n",
        "    plt.xlabel('Column Player')\n",
        "    plt.ylabel('Row Player')\n",
        "    plt.title('Game Matrix')\n",
        "    plt.colorbar(cax)\n",
        "    plt.show()\n",
        "\n",
        "# Example usage\n",
        "matrix = np.array([[3, 2, 5],\n",
        "                   [1, 4, 6],\n",
        "                   [7, 0, 8]])\n",
        "\n",
        "saddle = saddle_point(matrix)\n",
        "if saddle:\n",
        "    print(\"Saddle point found at:\", saddle)\n",
        "else:\n",
        "    print(\"No saddle point found.\")\n",
        "\n",
        "row_strategy, column_strategy = mixed_strategy(matrix)\n",
        "print(\"Mixed strategy for row player:\", row_strategy)\n",
        "print(\"Mixed strategy for column player:\", column_strategy)\n",
        "\n",
        "row_dominant_strategies = [i for i in range(matrix.shape[0]) if is_dominant(matrix, \"row\", i)]\n",
        "column_dominant_strategies = [j for j in range(matrix.shape[1]) if is_dominant(matrix, \"column\", j)]\n",
        "\n",
        "print(\"Row dominant strategies:\", row_dominant_strategies)\n",
        "print(\"Column dominant strategies:\", column_dominant_strategies)\n",
        "\n",
        "plot_game(matrix)\n"
      ],
      "metadata": {
        "colab": {
          "base_uri": "https://localhost:8080/",
          "height": 564
        },
        "id": "5Kju6R84_aqm",
        "outputId": "36c437af-4983-40fe-9685-d8972aa25d00"
      },
      "execution_count": 21,
      "outputs": [
        {
          "output_type": "stream",
          "name": "stdout",
          "text": [
            "No saddle point found.\n",
            "Mixed strategy for row player: [0. 0. 1.]\n",
            "Mixed strategy for column player: [0. 0. 1.]\n",
            "Row dominant strategies: []\n",
            "Column dominant strategies: []\n"
          ]
        },
        {
          "output_type": "display_data",
          "data": {
            "text/plain": [
              "<Figure size 640x480 with 2 Axes>"
            ],
            "image/png": "[encoded data removed]"
          },
          "metadata": {}
        }
      ]
    }
  ]
}